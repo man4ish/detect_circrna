{
 "cells": [
  {
   "cell_type": "markdown",
   "metadata": {},
   "source": [
    "## Table of Contents\n",
    "\n",
    "- [Install Circtools](#install-circtools)\n",
    "- [Download input data](#download-input-data)\n",
    "- [Adapter removal and quality trimming](#adapter-removal-and-quality-trimming)\n",
    "- [Removal of rRNA with Bowtie2](#removal-of-rrna-with-bowtie2)\n",
    "- [Download and index refgenome](#download-and-index-refgenome)\n",
    "- [Mapping against the reference genome](#mapping-against-the-reference-genome)\n",
    "- [Convert SAM to BAM](#convert-sam-to-bam)\n",
    "- [Detection of circular RNAs from chimeric.out.junction files with circtools](#detection-of-circular-rnas-from-chimericoutjunction-files-with-circtools)\n",
    "- [Plot Results](#plot-results)"
   ]
  },
  {
   "cell_type": "markdown",
   "metadata": {},
   "source": [
    "## Install Circtools"
   ]
  },
  {
   "cell_type": "code",
   "execution_count": 1,
   "metadata": {},
   "outputs": [
    {
     "name": "stdout",
     "output_type": "stream",
     "text": [
      "Requirement already satisfied: circtools in ./circtools/lib/python3.12/site-packages (2.0.1)\n",
      "Requirement already satisfied: HTSeq>=2.0.0 in ./circtools/lib/python3.12/site-packages (from circtools) (2.0.9)\n",
      "Requirement already satisfied: PyYAML>=6.0.2 in ./circtools/lib/python3.12/site-packages (from circtools) (6.0.2)\n",
      "Requirement already satisfied: biopython>=1.71 in ./circtools/lib/python3.12/site-packages (from circtools) (1.85)\n",
      "Requirement already satisfied: matplotlib>=3.10.3 in ./circtools/lib/python3.12/site-packages (from circtools) (3.10.3)\n",
      "Requirement already satisfied: numpy<2.0.0,>=1.14.5 in ./circtools/lib/python3.12/site-packages (from circtools) (1.26.4)\n",
      "Requirement already satisfied: pandas>=0.25.0 in ./circtools/lib/python3.12/site-packages (from circtools) (2.3.0)\n",
      "Requirement already satisfied: pathos>=0.3.0 in ./circtools/lib/python3.12/site-packages (from circtools) (0.3.4)\n",
      "Requirement already satisfied: pybedtools>=0.7.10 in ./circtools/lib/python3.12/site-packages (from circtools) (0.12.0)\n",
      "Requirement already satisfied: pysam>=0.16.0.1 in ./circtools/lib/python3.12/site-packages (from circtools) (0.23.1)\n",
      "Requirement already satisfied: reportlab>=3.3.0 in ./circtools/lib/python3.12/site-packages (from circtools) (4.4.1)\n",
      "Requirement already satisfied: requests>=2.32.3 in ./circtools/lib/python3.12/site-packages (from circtools) (2.32.3)\n",
      "Requirement already satisfied: scipy>=0.19.0 in ./circtools/lib/python3.12/site-packages (from circtools) (1.15.3)\n",
      "Requirement already satisfied: statsmodels in ./circtools/lib/python3.12/site-packages (from circtools) (0.14.4)\n",
      "Requirement already satisfied: tqdm>=4.67.1 in ./circtools/lib/python3.12/site-packages (from circtools) (4.67.1)\n",
      "Requirement already satisfied: contourpy>=1.0.1 in ./circtools/lib/python3.12/site-packages (from matplotlib>=3.10.3->circtools) (1.3.2)\n",
      "Requirement already satisfied: cycler>=0.10 in ./circtools/lib/python3.12/site-packages (from matplotlib>=3.10.3->circtools) (0.12.1)\n",
      "Requirement already satisfied: fonttools>=4.22.0 in ./circtools/lib/python3.12/site-packages (from matplotlib>=3.10.3->circtools) (4.58.1)\n",
      "Requirement already satisfied: kiwisolver>=1.3.1 in ./circtools/lib/python3.12/site-packages (from matplotlib>=3.10.3->circtools) (1.4.8)\n",
      "Requirement already satisfied: packaging>=20.0 in ./circtools/lib/python3.12/site-packages (from matplotlib>=3.10.3->circtools) (25.0)\n",
      "Requirement already satisfied: pillow>=8 in ./circtools/lib/python3.12/site-packages (from matplotlib>=3.10.3->circtools) (11.2.1)\n",
      "Requirement already satisfied: pyparsing>=2.3.1 in ./circtools/lib/python3.12/site-packages (from matplotlib>=3.10.3->circtools) (3.2.3)\n",
      "Requirement already satisfied: python-dateutil>=2.7 in ./circtools/lib/python3.12/site-packages (from matplotlib>=3.10.3->circtools) (2.9.0.post0)\n",
      "Requirement already satisfied: pytz>=2020.1 in ./circtools/lib/python3.12/site-packages (from pandas>=0.25.0->circtools) (2025.2)\n",
      "Requirement already satisfied: tzdata>=2022.7 in ./circtools/lib/python3.12/site-packages (from pandas>=0.25.0->circtools) (2025.2)\n",
      "Requirement already satisfied: ppft>=1.7.7 in ./circtools/lib/python3.12/site-packages (from pathos>=0.3.0->circtools) (1.7.7)\n",
      "Requirement already satisfied: dill>=0.4.0 in ./circtools/lib/python3.12/site-packages (from pathos>=0.3.0->circtools) (0.4.0)\n",
      "Requirement already satisfied: pox>=0.3.6 in ./circtools/lib/python3.12/site-packages (from pathos>=0.3.0->circtools) (0.3.6)\n",
      "Requirement already satisfied: multiprocess>=0.70.18 in ./circtools/lib/python3.12/site-packages (from pathos>=0.3.0->circtools) (0.70.18)\n",
      "Requirement already satisfied: chardet in ./circtools/lib/python3.12/site-packages (from reportlab>=3.3.0->circtools) (5.2.0)\n",
      "Requirement already satisfied: charset-normalizer<4,>=2 in ./circtools/lib/python3.12/site-packages (from requests>=2.32.3->circtools) (3.4.2)\n",
      "Requirement already satisfied: idna<4,>=2.5 in ./circtools/lib/python3.12/site-packages (from requests>=2.32.3->circtools) (3.10)\n",
      "Requirement already satisfied: urllib3<3,>=1.21.1 in ./circtools/lib/python3.12/site-packages (from requests>=2.32.3->circtools) (2.4.0)\n",
      "Requirement already satisfied: certifi>=2017.4.17 in ./circtools/lib/python3.12/site-packages (from requests>=2.32.3->circtools) (2025.4.26)\n",
      "Requirement already satisfied: patsy>=0.5.6 in ./circtools/lib/python3.12/site-packages (from statsmodels->circtools) (1.0.1)\n",
      "Requirement already satisfied: six>=1.5 in ./circtools/lib/python3.12/site-packages (from python-dateutil>=2.7->matplotlib>=3.10.3->circtools) (1.17.0)\n"
     ]
    },
    {
     "name": "stderr",
     "output_type": "stream",
     "text": [
      "\n",
      "\u001b[1m[\u001b[0m\u001b[34;49mnotice\u001b[0m\u001b[1;39;49m]\u001b[0m\u001b[39;49m A new release of pip is available: \u001b[0m\u001b[31;49m24.0\u001b[0m\u001b[39;49m -> \u001b[0m\u001b[32;49m25.1.1\u001b[0m\n",
      "\u001b[1m[\u001b[0m\u001b[34;49mnotice\u001b[0m\u001b[1;39;49m]\u001b[0m\u001b[39;49m To update, run: \u001b[0m\u001b[32;49mpip install --upgrade pip\u001b[0m\n"
     ]
    }
   ],
   "source": [
    "%%bash \n",
    "python3 -m venv circtools # create virtual environment\n",
    "source circtools/bin/activate # activate virtual environment\n",
    "python3 -m pip install circtools # install latest circtools version from PyPi"
   ]
  },
  {
   "cell_type": "markdown",
   "metadata": {},
   "source": [
    "## Download input data "
   ]
  },
  {
   "cell_type": "code",
   "execution_count": null,
   "metadata": {},
   "outputs": [],
   "source": [
    "%%bash\n",
    "sh src/download_data.sh"
   ]
  },
  {
   "cell_type": "markdown",
   "metadata": {},
   "source": [
    "## Adapter removal and quality trimming"
   ]
  },
  {
   "cell_type": "code",
   "execution_count": null,
   "metadata": {},
   "outputs": [],
   "source": [
    "%%bash\n",
    "sh src/run_trim.sh"
   ]
  },
  {
   "cell_type": "markdown",
   "metadata": {},
   "source": [
    "## Removal of rRNA with Bowtie2"
   ]
  },
  {
   "cell_type": "code",
   "execution_count": null,
   "metadata": {},
   "outputs": [],
   "source": [
    "%%bash\n",
    "sh src/run_bowtie2.sh"
   ]
  },
  {
   "cell_type": "markdown",
   "metadata": {},
   "source": [
    "## Download and index refgenome"
   ]
  },
  {
   "cell_type": "code",
   "execution_count": null,
   "metadata": {},
   "outputs": [],
   "source": [
    "%%bash\n",
    "sh src/download_and_index_refgenome.sh"
   ]
  },
  {
   "cell_type": "markdown",
   "metadata": {},
   "source": [
    "## Mapping against the reference genome"
   ]
  },
  {
   "cell_type": "code",
   "execution_count": null,
   "metadata": {},
   "outputs": [],
   "source": [
    "%%bash\n",
    "sh src/align_reads.sh"
   ]
  },
  {
   "cell_type": "markdown",
   "metadata": {},
   "source": [
    "## Convert SAM to BAM"
   ]
  },
  {
   "cell_type": "code",
   "execution_count": null,
   "metadata": {},
   "outputs": [],
   "source": [
    "%%bash\n",
    "sh src/sort_bam.sh"
   ]
  },
  {
   "cell_type": "markdown",
   "metadata": {},
   "source": [
    "## Detection of circular RNAs from chimeric.out.junction files with circtools"
   ]
  },
  {
   "cell_type": "code",
   "execution_count": 9,
   "metadata": {},
   "outputs": [
    {
     "name": "stdout",
     "output_type": "stream",
     "text": [
      "Your job 7968185 (\"circtools_detect_SRR14559671\") has been submitted\n"
     ]
    }
   ],
   "source": [
    "%%bash\n",
    "sh src/run_circtools.sh"
   ]
  },
  {
   "cell_type": "code",
   "execution_count": 5,
   "metadata": {},
   "outputs": [],
   "source": [
    "%load_ext rpy2.ipython"
   ]
  },
  {
   "cell_type": "markdown",
   "metadata": {},
   "source": [
    "## Plot Results"
   ]
  },
  {
   "cell_type": "code",
   "execution_count": 6,
   "metadata": {},
   "outputs": [
    {
     "name": "stdout",
     "output_type": "stream",
     "text": [
      "Rows: 8 Columns: 5\n",
      "── Column specification ────────────────────────────────────────────────────────\n",
      "Delimiter: \"\\t\"\n",
      "chr (1): Strand\n",
      "dbl (4): Chr, Start, End, Sample1_Chimeric.out.junction\n",
      "\n",
      "ℹ Use `spec()` to retrieve the full column specification for this data.\n",
      "ℹ Specify the column types or set `show_col_types = FALSE` to quiet this message.\n"
     ]
    },
    {
     "data": {
      "text/plain": [
       "\n",
       "Attaching package: ‘dplyr’\n",
       "\n",
       "The following objects are masked from ‘package:stats’:\n",
       "\n",
       "    filter, lag\n",
       "\n",
       "The following objects are masked from ‘package:base’:\n",
       "\n",
       "    intersect, setdiff, setequal, union\n",
       "\n"
      ]
     },
     "metadata": {},
     "output_type": "display_data"
    },
    {
     "data": {
      "image/png": "[encoded data removed]",
      "text/plain": [
       "<IPython.core.display.Image object>"
      ]
     },
     "metadata": {},
     "output_type": "display_data"
    }
   ],
   "source": [
    "%%R\n",
    "\n",
    "# Load libraries\n",
    "library(ggplot2)\n",
    "library(dplyr)\n",
    "library(readr)\n",
    "\n",
    "# Read the circRNA count file\n",
    "circ <- read_tsv(\"out/Sample1_circtools/CircRNACount\", col_names = TRUE)\n",
    "\n",
    "# Rename columns for clarity\n",
    "colnames(circ) <- c(\"Chr\", \"Start\", \"End\", \"Strand\", \"Count\")\n",
    "\n",
    "# Standardize chromosome names (remove 'chr' if present)\n",
    "circ$Chr <- gsub(\"^chr\", \"\", circ$Chr)\n",
    "\n",
    "# Factorize chromosomes in correct natural order\n",
    "chrom_order <- c(as.character(1:22), \"X\", \"Y\", \"MT\")\n",
    "circ$Chr <- factor(circ$Chr, levels = chrom_order)\n",
    "\n",
    "# Create unique circRNA ID\n",
    "circ <- circ %>% mutate(circRNA_ID = paste(Chr, Start, End, sep = \":\"))\n",
    "\n",
    "# ---- Plot 1: circRNA Counts per Junction (Top 30 for visibility) ----\n",
    "top_circ <- circ %>% arrange(desc(Count)) %>% head(30)\n",
    "\n",
    "p1 <- ggplot(top_circ, aes(x = reorder(circRNA_ID, -Count), y = Count)) +\n",
    "  geom_bar(stat = \"identity\", fill = \"steelblue\") +\n",
    "  labs(title = \"Top 30 circRNAs by Read Count\", x = \"circRNA (Chr:Start:End)\", y = \"Read Support\") +\n",
    "  theme_minimal() +\n",
    "  theme(axis.text.x = element_text(angle = 90, vjust = 0.5, hjust = 1, size = 7),\n",
    "        axis.ticks.x = element_blank())\n",
    "\n",
    "print(p1) \n",
    "\n",
    "ggsave(\"out/figures/circRNA_expression_per_junction.png\", plot = p1, width = 10, height = 6, dpi = 300)\n",
    "\n",
    "\n"
   ]
  },
  {
   "cell_type": "markdown",
   "metadata": {},
   "source": []
  },
  {
   "cell_type": "code",
   "execution_count": 7,
   "metadata": {},
   "outputs": [
    {
     "data": {
      "image/png": "[encoded data removed]",
      "text/plain": [
       "<IPython.core.display.Image object>"
      ]
     },
     "metadata": {},
     "output_type": "display_data"
    }
   ],
   "source": [
    "%%R\n",
    "# ---- Plot 2: Chromosomal Distribution of circRNAs ----\n",
    "p2 <- ggplot(circ, aes(x = Chr)) +\n",
    "  geom_bar(fill = \"blue\") +\n",
    "  labs(title = \"Chromosomal Distribution of circRNAs\", x = \"Chromosome\", y = \"Number of circRNAs\") +\n",
    "  theme_minimal() +\n",
    "  theme(axis.text.x = element_text(size = 10))\n",
    "\n",
    "print(p2)\n",
    "ggsave(\"out/figures/circRNA_chromosomal_distribution.png\", plot = p2, width = 8, height = 5, dpi = 300)"
   ]
  }
 ],
 "metadata": {
  "kernelspec": {
   "display_name": "manish",
   "language": "python",
   "name": "python3"
  },
  "language_info": {
   "codemirror_mode": {
    "name": "ipython",
    "version": 3
   },
   "file_extension": ".py",
   "mimetype": "text/x-python",
   "name": "python",
   "nbconvert_exporter": "python",
   "pygments_lexer": "ipython3",
   "version": "3.12.3"
  }
 },
 "nbformat": 4,
 "nbformat_minor": 2
}
